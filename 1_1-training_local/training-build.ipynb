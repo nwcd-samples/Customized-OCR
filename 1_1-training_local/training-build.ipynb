{
 "cells": [
  {
   "cell_type": "markdown",
   "metadata": {},
   "source": [
    "# Build 训练镜像"
   ]
  },
  {
   "cell_type": "markdown",
   "metadata": {},
   "source": [
    "## 1 说明\n",
    "本章内容为build训练镜像，本地进行训练，用户可直接使用build完毕的image，不用自己build。"
   ]
  },
  {
   "cell_type": "markdown",
   "metadata": {},
   "source": [
    "## 2 运行环境\n",
    "本文在boto3 1.17.17下测试通过。"
   ]
  },
  {
   "cell_type": "code",
   "execution_count": null,
   "metadata": {},
   "outputs": [],
   "source": [
    "import boto3\n",
    "print(boto3.__version__)"
   ]
  },
  {
   "cell_type": "markdown",
   "metadata": {},
   "source": [
    "## 3 准备PaddleOCR"
   ]
  },
  {
   "cell_type": "code",
   "execution_count": null,
   "metadata": {},
   "outputs": [],
   "source": [
    "!git clone https://github.com/PaddlePaddle/PaddleOCR container/dockersource"
   ]
  },
  {
   "cell_type": "markdown",
   "metadata": {},
   "source": [
    "## 4 下载识别预训练模型"
   ]
  },
  {
   "cell_type": "code",
   "execution_count": null,
   "metadata": {},
   "outputs": [],
   "source": [
    "!wget -P container/ https://paddleocr.bj.bcebos.com/dygraph_v2.0/ch/ch_ppocr_server_v2.0_rec_pre.tar"
   ]
  },
  {
   "cell_type": "code",
   "execution_count": null,
   "metadata": {},
   "outputs": [],
   "source": [
    "%cd container\n",
    "!tar -xf ch_ppocr_server_v2.0_rec_pre.tar && rm -rf ch_ppocr_server_v2.0_rec_pre.tar\n",
    "%cd ch_ppocr_server_v2.0_rec_pre\n",
    "!rm ._best*\n",
    "!rm train.log\n",
    "%cd ../.."
   ]
  },
  {
   "cell_type": "markdown",
   "metadata": {},
   "source": [
    "## 5 设置相关名称 & 创建文件夹"
   ]
  },
  {
   "cell_type": "code",
   "execution_count": null,
   "metadata": {},
   "outputs": [],
   "source": [
    "ecr_repository = 'ocr-training-local'\n",
    "tag = 'rec'\n",
    "train_path = 'container/local_test/input/data/training'\n",
    "validation_path = 'container/local_test/input/data/validation'\n",
    "model_path = 'container/local_test/model'\n"
   ]
  },
  {
   "cell_type": "code",
   "execution_count": null,
   "metadata": {},
   "outputs": [],
   "source": [
    "import os\n",
    "def create_folder(folder_path):\n",
    "    if os.path.exists(folder_path):\n",
    "        print(\"文件夹[{}]已经存在\".format(folder_path))\n",
    "        return\n",
    "    os.makedirs(folder_path)\n",
    "    print(\"创建文件夹[{}]\".format(folder_path))\n",
    "\n",
    "create_folder(train_path)\n",
    "create_folder(validation_path)\n",
    "create_folder(model_path)"
   ]
  },
  {
   "cell_type": "markdown",
   "metadata": {},
   "source": [
    "## 6 Build image"
   ]
  },
  {
   "cell_type": "code",
   "execution_count": null,
   "metadata": {},
   "outputs": [],
   "source": [
    "%%time\n",
    "%cd container\n",
    "!docker build -t $ecr_repository:$tag .\n",
    "%cd ../\n",
    "!pwd"
   ]
  },
  {
   "cell_type": "markdown",
   "metadata": {},
   "source": [
    "## 7 准备训练数据"
   ]
  },
  {
   "cell_type": "code",
   "execution_count": null,
   "metadata": {},
   "outputs": [],
   "source": [
    "#请自行准备训练数据\n",
    "!aws s3 cp s3://junzhong/data/ocr/Chinese2560/training.zip ./\n",
    "!aws s3 cp s3://junzhong/data/ocr/English/validation.zip ./\n"
   ]
  },
  {
   "cell_type": "code",
   "execution_count": null,
   "metadata": {},
   "outputs": [],
   "source": [
    "%%time\n",
    "!pwd\n",
    "!unzip -q -o training.zip -d  $train_path\n",
    "!unzip -q -o validation.zip  -d $validation_path\n",
    "!rm -fr training.zip\n",
    "!rm -fr validation.zip\n"
   ]
  },
  {
   "cell_type": "markdown",
   "metadata": {},
   "source": [
    "## 8 在本地使用容器进行训练\n",
    "训练模型结果存放在`container/local_test/model/`"
   ]
  },
  {
   "cell_type": "code",
   "execution_count": null,
   "metadata": {},
   "outputs": [],
   "source": [
    "!nvidia-docker run -v $(pwd)/container/local_test/:/opt/ml --shm-size=12g --rm $ecr_repository:$tag train"
   ]
  },
  {
   "cell_type": "markdown",
   "metadata": {},
   "source": [
    "## 9 测试"
   ]
  },
  {
   "cell_type": "code",
   "execution_count": null,
   "metadata": {},
   "outputs": [],
   "source": [
    "!nvidia-docker run -v $(pwd)/container/local_test/:/opt/ml/ --rm $ecr_repository:$tag \\\n",
    "   python3 tools/infer_rec.py -c /opt/ml/rec_chinese_common_train_v2.0.yml -o Global.pretrained_model=/opt/ml/model/latest Global.load_static_weights=false Global.infer_img=doc/imgs_words/en/word_1.png"
   ]
  },
  {
   "cell_type": "code",
   "execution_count": null,
   "metadata": {},
   "outputs": [],
   "source": []
  }
 ],
 "metadata": {
  "kernelspec": {
   "display_name": "Python 3",
   "language": "python",
   "name": "python3"
  },
  "language_info": {
   "codemirror_mode": {
    "name": "ipython",
    "version": 3
   },
   "file_extension": ".py",
   "mimetype": "text/x-python",
   "name": "python",
   "nbconvert_exporter": "python",
   "pygments_lexer": "ipython3",
   "version": "3.7.6"
  }
 },
 "nbformat": 4,
 "nbformat_minor": 4
}
