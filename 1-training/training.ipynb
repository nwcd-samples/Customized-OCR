{
 "cells": [
  {
   "cell_type": "markdown",
   "metadata": {},
   "source": [
    "# 训练"
   ]
  },
  {
   "cell_type": "markdown",
   "metadata": {},
   "source": [
    "## 1 说明\n",
    "本章内容为用SageMaker进行训练，数据来自S3。"
   ]
  },
  {
   "cell_type": "markdown",
   "metadata": {},
   "source": [
    "## 2 运行环境\n",
    "Kernel 选择Python 3。  \n",
    "本文在boto3 1.17.17下测试通过。"
   ]
  },
  {
   "cell_type": "code",
   "execution_count": null,
   "metadata": {},
   "outputs": [],
   "source": [
    "import boto3\n",
    "print(boto3.__version__)"
   ]
  },
  {
   "cell_type": "markdown",
   "metadata": {},
   "source": [
    "## 3 获取image"
   ]
  },
  {
   "cell_type": "markdown",
   "metadata": {},
   "source": [
    "本项目已build完毕image，存放到ECR中，可直接进行训练。基于训练成本考虑，image只在cn-northwest-1(宁夏)"
   ]
  },
  {
   "cell_type": "code",
   "execution_count": null,
   "metadata": {},
   "outputs": [],
   "source": [
    "image_uri = '048912060910.dkr.ecr.cn-northwest-1.amazonaws.com.cn/nwcd/ocr-training:rec'"
   ]
  },
  {
   "cell_type": "markdown",
   "metadata": {},
   "source": [
    "## 4 在SageMaker上训练"
   ]
  },
  {
   "cell_type": "code",
   "execution_count": null,
   "metadata": {},
   "outputs": [],
   "source": [
    "# 设置数据存放S3 bucket和前缀\n",
    "bucket = 'junzhong'\n",
    "pre_key = 'data/ocr/Chinese'"
   ]
  },
  {
   "cell_type": "code",
   "execution_count": null,
   "metadata": {},
   "outputs": [],
   "source": [
    "#可修改uri\n",
    "training_uri='s3://{}/{}/training.zip'.format(bucket, pre_key)\n",
    "validation_uri='s3://{}/{}/validation.zip'.format(bucket, pre_key)\n",
    "checkpoint='s3://{}/{}/checkpoint/'.format(bucket, pre_key)\n",
    "outpath='s3://{}/{}/results/'.format(bucket, pre_key)"
   ]
  },
  {
   "cell_type": "code",
   "execution_count": null,
   "metadata": {},
   "outputs": [],
   "source": [
    "import boto3\n",
    "\n",
    "iam = boto3.client('iam')\n",
    "roles = iam.list_roles(PathPrefix='/service-role')\n",
    "role=\"\"\n",
    "for current_role in roles[\"Roles\"]:\n",
    "    if current_role[\"RoleName\"].startswith(\"AmazonSageMaker-ExecutionRole-\"):\n",
    "        role=current_role[\"Arn\"]\n",
    "        break\n",
    "#如果role为空表示有问题\n",
    "print(role)\n",
    "sm = boto3.client('sagemaker')"
   ]
  },
  {
   "cell_type": "code",
   "execution_count": null,
   "metadata": {},
   "outputs": [],
   "source": [
    "#设置是否使用spot实例进行训练\n",
    "use_spot = True"
   ]
  },
  {
   "cell_type": "code",
   "execution_count": null,
   "metadata": {},
   "outputs": [],
   "source": [
    "from datetime import datetime\n",
    "now = datetime.now()\n",
    "job_name = 'ocr-' + now.strftime(\"%Y-%m-%d-%H-%M-%S\")\n",
    "job_name"
   ]
  },
  {
   "cell_type": "code",
   "execution_count": null,
   "metadata": {},
   "outputs": [],
   "source": [
    "response = sm.create_training_job(\n",
    "      TrainingJobName=job_name,\n",
    "      HyperParameters={\n",
    "          'gpu':'0',\n",
    "          'Global.epoch_num':'1',\n",
    "          'Train.loader.batch_size_per_card':'128'\n",
    "      },\n",
    "      AlgorithmSpecification={\n",
    "          'TrainingImage': image_uri,\n",
    "          'TrainingInputMode': 'File',\n",
    "      },\n",
    "      RoleArn=role,\n",
    "      InputDataConfig=[\n",
    "          {\n",
    "              'ChannelName': 'training',\n",
    "              'DataSource': {\n",
    "                  'S3DataSource': {\n",
    "                      'S3DataType': 'S3Prefix',\n",
    "                      'S3Uri': training_uri,\n",
    "                      'S3DataDistributionType': 'FullyReplicated',\n",
    "                  },\n",
    "              },\n",
    "              'InputMode': 'File'\n",
    "          },\n",
    "          {\n",
    "              'ChannelName': 'validation',\n",
    "              'DataSource': {\n",
    "                  'S3DataSource': {\n",
    "                      'S3DataType': 'S3Prefix',\n",
    "                      'S3Uri': validation_uri,\n",
    "                      'S3DataDistributionType': 'FullyReplicated',\n",
    "                  },\n",
    "              },\n",
    "              'InputMode': 'File'\n",
    "          }\n",
    "      ],\n",
    "      OutputDataConfig={\n",
    "          'S3OutputPath': outpath\n",
    "      },\n",
    "      ResourceConfig={\n",
    "          'InstanceType': 'ml.p3.2xlarge',\n",
    "          'InstanceCount': 1,\n",
    "          'VolumeSizeInGB': 100,\n",
    "      },\n",
    "      CheckpointConfig={'S3Uri':checkpoint},\n",
    "      EnableManagedSpotTraining=use_spot,\n",
    "      StoppingCondition={\"MaxWaitTimeInSeconds\": 432000,\"MaxRuntimeInSeconds\": 432000} if use_spot else {\"MaxRuntimeInSeconds\": 432000}\n",
    "  )\n",
    "response"
   ]
  },
  {
   "cell_type": "code",
   "execution_count": null,
   "metadata": {},
   "outputs": [],
   "source": [
    "status = sm.describe_training_job(TrainingJobName=job_name)['TrainingJobStatus']\n",
    "print('Training job current status: {}'.format(status))"
   ]
  },
  {
   "cell_type": "markdown",
   "metadata": {},
   "source": [
    "## 5 下载训练结果"
   ]
  },
  {
   "cell_type": "code",
   "execution_count": null,
   "metadata": {},
   "outputs": [],
   "source": [
    "respone = sm.describe_training_job(TrainingJobName=job_name)\n",
    "model_data = respone['ModelArtifacts']['S3ModelArtifacts']"
   ]
  },
  {
   "cell_type": "code",
   "execution_count": null,
   "metadata": {},
   "outputs": [],
   "source": [
    "!aws s3 cp {model_data} ./"
   ]
  },
  {
   "cell_type": "code",
   "execution_count": null,
   "metadata": {},
   "outputs": [],
   "source": [
    "!tar -xvf model.tar.gz -C container/local_test/model/\n",
    "!rm model.tar.gz"
   ]
  },
  {
   "cell_type": "markdown",
   "metadata": {},
   "source": [
    "## 6 测试"
   ]
  },
  {
   "cell_type": "code",
   "execution_count": null,
   "metadata": {},
   "outputs": [],
   "source": [
    "!docker run -v $(pwd)/container/local_test/:/opt/ml/ --rm $image_uri \\\n",
    "   python3 tools/infer_rec.py -c rec_chinese_common_train_v2.0.yml -o Global.pretrained_model=/opt/ml/model/latest Global.load_static_weights=false Global.use_gpu=false Global.infer_img=doc/imgs_words/ch/word_2.jpg"
   ]
  },
  {
   "cell_type": "markdown",
   "metadata": {},
   "source": [
    "## 7 转化为推理格式"
   ]
  },
  {
   "cell_type": "code",
   "execution_count": null,
   "metadata": {},
   "outputs": [],
   "source": [
    "!docker run -v $(pwd)/container/local_test/:/opt/ml/ --rm $image_uri \\\n",
    "   python3 tools/export_model.py -c rec_chinese_common_train_v2.0.yml -o Global.pretrained_model=/opt/ml/model/latest Global.save_inference_dir=/opt/ml/model/inference/rec/"
   ]
  },
  {
   "cell_type": "markdown",
   "metadata": {},
   "source": [
    "## 8 下载检测模型、方向分类器的推理模型"
   ]
  },
  {
   "cell_type": "code",
   "execution_count": null,
   "metadata": {},
   "outputs": [],
   "source": [
    "%cd container/local_test/model/inference"
   ]
  },
  {
   "cell_type": "code",
   "execution_count": null,
   "metadata": {},
   "outputs": [],
   "source": [
    "!sudo chmod a+w ./"
   ]
  },
  {
   "cell_type": "code",
   "execution_count": null,
   "metadata": {},
   "outputs": [],
   "source": [
    "# 下载中文OCR模型的检测模型并解压\n",
    "!wget https://paddleocr.bj.bcebos.com/dygraph_v2.0/ch/ch_ppocr_server_v2.0_det_infer.tar\n",
    "!tar xf ch_ppocr_server_v2.0_det_infer.tar\n",
    "!rm ch_ppocr_server_v2.0_det_infer.tar\n",
    "!mv ch_ppocr_server_v2.0_det_infer det\n",
    "# 下载中文OCR模型的文本方向分类器模型并解压\n",
    "!wget https://paddleocr.bj.bcebos.com/dygraph_v2.0/ch/ch_ppocr_mobile_v2.0_cls_infer.tar\n",
    "!tar xf ch_ppocr_mobile_v2.0_cls_infer.tar\n",
    "!rm ch_ppocr_mobile_v2.0_cls_infer.tar\n",
    "!mv ch_ppocr_mobile_v2.0_cls_infer cls"
   ]
  },
  {
   "cell_type": "code",
   "execution_count": null,
   "metadata": {},
   "outputs": [],
   "source": [
    "%cd ../"
   ]
  },
  {
   "cell_type": "code",
   "execution_count": null,
   "metadata": {},
   "outputs": [],
   "source": [
    "!tar zcvf inference.tar.gz ./inference/"
   ]
  },
  {
   "cell_type": "code",
   "execution_count": null,
   "metadata": {},
   "outputs": [],
   "source": [
    "!aws s3 cp inference.tar.gz s3://$bucket/$pre_key/"
   ]
  },
  {
   "cell_type": "code",
   "execution_count": null,
   "metadata": {},
   "outputs": [],
   "source": [
    "#回到1-training\n",
    "%cd ../../../"
   ]
  },
  {
   "cell_type": "code",
   "execution_count": null,
   "metadata": {},
   "outputs": [],
   "source": [
    "!echo -n s3://$bucket/$pre_key/inference.tar.gz > model_data.txt"
   ]
  },
  {
   "cell_type": "code",
   "execution_count": null,
   "metadata": {},
   "outputs": [],
   "source": []
  }
 ],
 "metadata": {
  "kernelspec": {
   "display_name": "Python 3",
   "language": "python",
   "name": "python3"
  },
  "language_info": {
   "codemirror_mode": {
    "name": "ipython",
    "version": 3
   },
   "file_extension": ".py",
   "mimetype": "text/x-python",
   "name": "python",
   "nbconvert_exporter": "python",
   "pygments_lexer": "ipython3",
   "version": "3.7.10"
  }
 },
 "nbformat": 4,
 "nbformat_minor": 4
}
