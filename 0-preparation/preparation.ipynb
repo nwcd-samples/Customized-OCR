{
 "cells": [
  {
   "cell_type": "markdown",
   "metadata": {},
   "source": [
    "# 数据准备"
   ]
  },
  {
   "cell_type": "markdown",
   "metadata": {},
   "source": [
    "## 1 说明\n",
    "本章内容说明训练数据格式。\n",
    "## 2 文件目录\n",
    "需要准备2个文件：training.zip、validation.zip。两个文件内容、格式相同，分别用于训练和验证（实际不验证，但必须存在）。  \n",
    "下文以training.zip来说明文件格式。training.zip目录下需要一个文件training.txt（validation.zip下为validation.txt），该文件作为索引。\n",
    "```\n",
    "training.zip\n",
    "├── training.txt\n",
    "└── image\n",
    "    ├── 00000001.jpg\n",
    "    ├── 00000002.jpg\n",
    "    ├── 00000003.jpg\n",
    "    └── ...\n",
    "```\n",
    "## 3 txt文件格式\n",
    "需要2列内容，第1列为图片地址，第2列为图片内容，以`\\n`作为行结束符。第1列和第2列之间用`\\t`分割\n",
    "```\n",
    "image/00000001.jpg\t贷款给那些贫困的学生\n",
    "image/00000002.jpg\tnd@djh-wl.\n",
    "image/00000003.jpg\t马刺队全队有五名球员\n",
    "\n",
    "```"
   ]
  },
  {
   "cell_type": "code",
   "execution_count": null,
   "metadata": {},
   "outputs": [],
   "source": []
  }
 ],
 "metadata": {
  "kernelspec": {
   "display_name": "Environment (conda_pytorch_latest_p37)",
   "language": "python",
   "name": "conda_pytorch_latest_p37"
  },
  "language_info": {
   "codemirror_mode": {
    "name": "ipython",
    "version": 3
   },
   "file_extension": ".py",
   "mimetype": "text/x-python",
   "name": "python",
   "nbconvert_exporter": "python",
   "pygments_lexer": "ipython3",
   "version": "3.7.10"
  }
 },
 "nbformat": 4,
 "nbformat_minor": 4
}
